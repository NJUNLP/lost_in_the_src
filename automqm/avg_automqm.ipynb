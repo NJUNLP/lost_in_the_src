{
 "cells": [
  {
   "cell_type": "code",
   "execution_count": null,
   "metadata": {},
   "outputs": [],
   "source": [
    "from evaluate import Evaluator\n",
    "\n",
    "rp = \"results/mistral_7b_no_src_ref_stratified_wmt22_ende_3200.pkl\"\n",
    "eva_ende = Evaluator(\"data/wmt22_mqm_en-de_3200.pkl\", rp)\n",
    "eva_zhen = Evaluator(\"data/wmt22_mqm_zh-en_3200.pkl\", rp.replace(\"ende\", \"zhen\"))"
   ]
  },
  {
   "cell_type": "code",
   "execution_count": null,
   "metadata": {},
   "outputs": [],
   "source": [
    "print(\"ende\")\n",
    "ende_f1 = eva_ende.sf1_mf1(\"en\")\n",
    "print(\"zhen\")\n",
    "zhen_f1 = eva_zhen.sf1_mf1()\n",
    "sum_num = [i + j for i, j in zip(ende_f1, zhen_f1)]\n",
    "num_intersection, num_predict, num_label, num_major_intersection, num_major_predict, num_major = sum_num\n",
    "\n",
    "span_precision = num_intersection / num_predict\n",
    "span_recall = num_intersection / num_label\n",
    "sf1 = (2 * num_intersection) / (num_predict + num_label)\n",
    "major_precision = num_major_intersection / num_major_predict\n",
    "major_recall = num_major_intersection / num_major\n",
    "mf1 = (2 * num_major_intersection) / (num_major_predict + num_major)\n",
    "\n",
    "print(\"\\navg\")\n",
    "print(f\"SP: {num_intersection:>5} / {num_predict:>5} = {span_precision:.3f}\")\n",
    "print(f\"SR: {num_intersection:>5} / {num_label:>5} = {span_recall:.3f}\")\n",
    "print(f\"S-F1: {sf1:.3f}\")\n",
    "print(f\"MP: {num_major_intersection:>5} / {num_major_predict:>5} = {major_precision:.3f}\")\n",
    "print(f\"MR: {num_major_intersection:>5} / {num_major:>5} = {major_recall:.3f}\")\n",
    "print(f\"M-F1: {mf1:.3f}\")"
   ]
  },
  {
   "cell_type": "code",
   "execution_count": null,
   "metadata": {},
   "outputs": [],
   "source": [
    "print(\"ende\")\n",
    "ende_mcc = eva_ende.mcc(\"de\")\n",
    "print(\"zhen\")\n",
    "zhen_mcc = eva_zhen.mcc()\n",
    "sum_num = [i + j for i, j in zip(ende_mcc, zhen_mcc)]\n",
    "tp, tn, fp, fn = sum_num\n",
    "mcc_numerator = (tp * tn) - (fp * fn)\n",
    "mcc_denominator = ((tp + fp) * (tp + fn) * (tn + fp) * (tn + fn)) ** 0.5\n",
    "mcc = mcc_numerator / mcc_denominator\n",
    "\n",
    "print(\"\\navg\")\n",
    "print(f\"MCC tp: {tp}\")\n",
    "print(f\"MCC tn: {tn}\")\n",
    "print(f\"MCC fp: {fp}\")\n",
    "print(f\"MCC fn: {fn}\")\n",
    "print(f\"MCC: {mcc:.3f}\")"
   ]
  },
  {
   "cell_type": "code",
   "execution_count": null,
   "metadata": {},
   "outputs": [],
   "source": [
    "print(\"ende\")\n",
    "ende_confusion_dict = eva_ende.category_prf1()\n",
    "print(\"zhen\")\n",
    "zhen_confusion_dict = eva_zhen.category_prf1()\n",
    "merged_dict = {\n",
    "    k: [v1 + v2 for v1, v2 in zip(v_ende, v_zhen)] \n",
    "    for k, v_ende, v_zhen in zip(\n",
    "        ende_confusion_dict.keys(), ende_confusion_dict.values(), zhen_confusion_dict.values()\n",
    "    )\n",
    "}\n",
    "\n",
    "for k, v in merged_dict.items():\n",
    "    precision = v[0] / (v[0] + v[2]) if v[0] > 0 else 0\n",
    "    recall = v[0] / (v[0] + v[1]) if v[0] > 0 else 0\n",
    "    f1 = 2 * v[0] / (2 * v[0] + v[1] + v[2]) if v[0] > 0 else 0\n",
    "    print(f\"{k}: P: {precision} R: {recall} F1: {f1} num: {v[3]}\")\n",
    "print(merged_dict)"
   ]
  }
 ],
 "metadata": {
  "kernelspec": {
   "display_name": "base",
   "language": "python",
   "name": "python3"
  },
  "language_info": {
   "codemirror_mode": {
    "name": "ipython",
    "version": 3
   },
   "file_extension": ".py",
   "mimetype": "text/x-python",
   "name": "python",
   "nbconvert_exporter": "python",
   "pygments_lexer": "ipython3",
   "version": "3.8.11"
  },
  "orig_nbformat": 4
 },
 "nbformat": 4,
 "nbformat_minor": 2
}
